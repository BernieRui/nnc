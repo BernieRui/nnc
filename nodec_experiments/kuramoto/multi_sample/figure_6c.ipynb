{
 "cells": [
  {
   "cell_type": "markdown",
   "metadata": {},
   "source": [
    "# Kuramoto: Fig 6c\n",
    "\n",
    "This plot uses the results from: `nodec_experiments/kuramoto/multi_sample/evaluate_initial_states.ipynb`\n",
    "\n",
    "If you replace the distribution you many notice the robustess of NODEC to initial state settings.\n",
    "\n",
    "Please make sure that the required data folder is available at the paths used by the script.\n",
    "You may generate the required data by running the python script\n",
    "```nodec_experiments/kuramoto/gen_parameters.py```.\n",
    "\n",
    "Please also make sure that a training proceedure has produced results in the corresponding paths used in plot and table scripts.\n",
    "Running ```nodec_experiments/kuramoto/train.ipynb``` with default paths is expected to generate at the requiered location for the plots and table scripts in each folder.\n",
    "\n",
    "As neural network intialization is stochastic, please make sure that appropriate seeds are used or expect some variance to paper results.\n",
    "\n",
    "\n",
    "\n",
    "\n",
    "\n",
    "## Imports"
   ]
  },
  {
   "cell_type": "code",
   "execution_count": null,
   "metadata": {},
   "outputs": [],
   "source": [
    "#%load_ext autoreload\n",
    "#%autoreload 2"
   ]
  },
  {
   "cell_type": "code",
   "execution_count": null,
   "metadata": {},
   "outputs": [],
   "source": [
    "import os\n",
    "os.sys.path.append('../../../')\n",
    "import math\n",
    "from copy import deepcopy\n",
    "\n",
    "import torch\n",
    "from torchdiffeq import odeint\n",
    "import numpy as np\n",
    "import pandas as pd\n",
    "\n",
    "import networkx as nx\n",
    "\n",
    "\n",
    "import plotly.express as px\n",
    "from plotly import graph_objects as go\n",
    "\n",
    "from nnc.controllers.neural_network.nnc_controllers import NNCDynamics\n",
    "from nnc.controllers.baselines.oscillators.dynamics import AdditiveControlKuramotoDynamics\n",
    "from nnc.controllers.baselines.oscillators.optimal_controllers import KuramotoFeedbackControl\n",
    "\n",
    "from nnc.helpers.torch_utils.graphs import adjacency_tensor, maximum_matching_drivers, drivers_to_tensor\n",
    "from nnc.helpers.torch_utils.oscillators import order_parameter_cos\n",
    "from nnc.helpers.torch_utils.numerics import faster_adj_odeint\n",
    "from nnc.helpers.plot_helper import ColorRegistry, base_layout\n",
    "from nnc.helpers.torch_utils.evaluators import FixedInteractionEvaluator\n",
    "\n",
    "from tqdm.cli import tqdm\n",
    "\n"
   ]
  },
  {
   "cell_type": "markdown",
   "metadata": {},
   "source": [
    "## Load Parameters and Result Data"
   ]
  },
  {
   "cell_type": "code",
   "execution_count": null,
   "metadata": {},
   "outputs": [],
   "source": [
    "# Training parameters, such as device, float precision and whether a pre-trained model is used.\n",
    "device = 'cpu'\n",
    "dtype = torch.float\n",
    "train = True"
   ]
  },
  {
   "cell_type": "code",
   "execution_count": null,
   "metadata": {},
   "outputs": [],
   "source": [
    "# Loading Parameters for the graph\n",
    "data_folder = '../../../../data/parameters/kuramoto/'\n",
    "graph = 'erdos_renyi'\n",
    "graph_folder = data_folder + graph + '/'\n",
    "\n",
    "A = torch.load(graph_folder + 'adjacency.pt', map_location=device).float() # adjacency matrix\n",
    "G = nx.from_numpy_matrix(A.numpy())\n",
    "n_nodes = G.number_of_nodes()\n",
    "mean_degree = np.mean(list(dict(G.degree()).values()))\n",
    "\n",
    "A = A.to(device, dtype) # adjacency\n",
    "L = A.sum(-1).diag() - A # laplacian\n",
    "\n",
    "# to save results\n",
    "results_folder = '../../../../data/results/kuramoto/erdos_renyi/sample_results/'\n",
    "os.makedirs(results_folder + 'nodec', exist_ok=True)\n",
    "os.makedirs(results_folder + 'fc', exist_ok=True)"
   ]
  },
  {
   "cell_type": "code",
   "execution_count": null,
   "metadata": {},
   "outputs": [],
   "source": [
    "# Load dynamics dependendent variables and states\n",
    "coupling_constants = torch.load(data_folder + 'coupling_constants.pt', map_location=device).to(device, dtype)\n",
    "frustration_constants = torch.load(data_folder + 'frustration_constants.pt', map_location=device).to(device, dtype)\n",
    "natural_frequencies = torch.load(data_folder + 'nominal_angular_velocities.pt', map_location=device).to(device, dtype)\n",
    "K = coupling_constants[2].item() # coupling constant, index 2 should be 0.4\n",
    "frustration_constant = frustration_constants[0] # we use no frustration for this example\n",
    "dynamics_params_folder = graph_folder + 'dynamics_parameters/coupling_' + '{:.1f}'.format(K) + '/'\n",
    "\n",
    "\n",
    "x0 = 2*math.pi*torch.rand([100, n_nodes]).to(device=device, dtype=dtype)\n",
    "\n",
    "\n",
    "# to avoid using extra memory we load the driver vector and use element-wise multiplication instead of the driver matrix.\n",
    "gain_vector = torch.load(dynamics_params_folder + 'driver_vector.pt', map_location=device).to(device, dtype)\n",
    "driver_nodes = torch.nonzero(gain_vector).cpu().numpy().flatten().tolist()\n",
    "driver_percentage = len(driver_nodes)/len(gain_vector)\n",
    "steady_state = torch.load(dynamics_params_folder + 'steady_state.pt', map_location=device).to(device, dtype)\n"
   ]
  },
  {
   "cell_type": "code",
   "execution_count": null,
   "metadata": {},
   "outputs": [],
   "source": [
    "#  Controller parameters\n",
    "# Feedback Control\n",
    "feedback_control_constant = 10\n",
    "\n",
    "# Neural Network training\n",
    "n_hidden_units = 3"
   ]
  },
  {
   "cell_type": "code",
   "execution_count": null,
   "metadata": {},
   "outputs": [],
   "source": [
    "print('Current experiment info:')\n",
    "print('\\t Loaded ' + graph + 'graph with: ' + str(n_nodes) + ' nodes and ' + str(G.number_of_edges()) + ' edges.' )\n",
    "print('\\t Coupling Constant: ' + str(K))\n",
    "print('\\t Frustration Constant: ' + str(frustration_constant.item()))\n",
    "print('\\t Natural Frequencies: mean: ' + str(natural_frequencies.mean().item()) + ' variance: ' + str(natural_frequencies.var().item()) )\n",
    "print('\\t Ratio of driver node vs total nodes: '  + str(len(driver_nodes)/n_nodes))\n",
    "print('\\t Feedback Control Constant: '  + str(feedback_control_constant))\n"
   ]
  },
  {
   "cell_type": "markdown",
   "metadata": {},
   "source": [
    "## Plot comparison  results"
   ]
  },
  {
   "cell_type": "code",
   "execution_count": null,
   "metadata": {},
   "outputs": [],
   "source": [
    "# Generating the dynamics:\n",
    "dyn = AdditiveControlKuramotoDynamics(\n",
    "    A, \n",
    "    K, \n",
    "    natural_frequencies,\n",
    "    frustration_constant=frustration_constant\n",
    ").to(device)"
   ]
  },
  {
   "cell_type": "code",
   "execution_count": null,
   "metadata": {},
   "outputs": [],
   "source": [
    "# same neural network as the one used in train\n",
    "class EluFeedbackControl(torch.nn.Module):\n",
    "    \"\"\"\n",
    "    Very simple Elu architecture for control of linear systems\n",
    "    \"\"\"\n",
    "    def __init__(self, n_nodes, n_drivers, driver_matrix, n_hidden=3):\n",
    "        super().__init__()\n",
    "        self.linear = torch.nn.Linear(n_nodes,n_hidden)\n",
    "        self.linear_h1 = torch.nn.Linear(n_hidden, n_hidden)\n",
    "        self.linear_final = torch.nn.Linear(n_hidden, n_drivers)\n",
    "        self.driver_matrix = driver_matrix\n",
    "\n",
    "    def forward(self, t, x):\n",
    "        \"\"\"\n",
    "        :param t: A scalar or a batch with scalars\n",
    "        :param x: input_states for all nodes\n",
    "        :return:\n",
    "        \"\"\"     \n",
    "        u = self.linear(torch.sin(x))\n",
    "        u = torch.nn.functional.elu(u)\n",
    "        u = self.linear_h1(u)\n",
    "        u = torch.nn.functional.elu(u)\n",
    "        u = self.linear_final(u)\n",
    "        # we multiply by the nn driver matrix to generate the control signal\n",
    "        u = (self.driver_matrix@u.unsqueeze(-1)).squeeze(-1)\n",
    "        return u"
   ]
  },
  {
   "cell_type": "code",
   "execution_count": null,
   "metadata": {},
   "outputs": [],
   "source": [
    "# We convert the driver vector back to a matrix and convert the non-zero elements to 1, so that the neural network is agnostic of the exact gain values.\n",
    "driver_matrix = drivers_to_tensor(A.shape[-1], driver_nodes).to(dtype=dtype, device=device)"
   ]
  },
  {
   "cell_type": "code",
   "execution_count": null,
   "metadata": {},
   "outputs": [],
   "source": [
    "neural_net = EluFeedbackControl(n_nodes, len(driver_nodes), driver_matrix, n_hidden=n_hidden_units).to(dtype=dtype, device=device)\n",
    "neural_net.load_state_dict(torch.load( '../../../../data/results/kuramoto/erdos_renyi/trained_model.pt', map_location=device))"
   ]
  },
  {
   "cell_type": "code",
   "execution_count": null,
   "metadata": {},
   "outputs": [],
   "source": [
    "sample_path_nodec = results_folder + '/nodec'\n",
    "sample_path_fc = results_folder + '/fc'\n",
    "nodec_total_energies = []\n",
    "fc_total_energies = []\n",
    "\n",
    "nodec_total_errors = []\n",
    "fc_total_errors = []\n",
    "\n",
    "error_diff = []\n",
    "energy_diff = []\n",
    "\n",
    "for i in tqdm(range(100)):\n",
    "    nodec_sample_p = sample_path_nodec + '/sample_' + str(i) +'.pt'\n",
    "    fc_sample_p = sample_path_fc + '/sample_' + str(i) +'.pt'\n",
    "    nodec_sample = torch.load(nodec_sample_p, map_location=device)\n",
    "    fc_sample = torch.load(fc_sample_p, map_location=device)\n",
    "    nodec_total_energies.append(nodec_sample['total_energy'])\n",
    "    fc_total_energies.append(fc_sample['total_energy'])\n",
    "    nodec_total_errors.append(nodec_sample['all_losses'][1:])\n",
    "    fc_total_errors.append(fc_sample['all_losses'][1:])\n",
    "    error_diff.append((((nodec_sample['all_losses'][1:]-fc_sample['all_losses'][1:])/fc_sample['all_losses'][1:]).mean()).item())\n",
    "    energy_diff.append(((nodec_sample['total_energy']-fc_sample['total_energy'])/fc_sample['total_energy']).item())"
   ]
  },
  {
   "cell_type": "markdown",
   "metadata": {},
   "source": [
    "## Figure 6c"
   ]
  },
  {
   "cell_type": "code",
   "execution_count": null,
   "metadata": {},
   "outputs": [],
   "source": [
    "fig = px.density_contour( x=error_diff, y=energy_diff, \n",
    "                         #marginal_x=\"histogram\", \n",
    "                         #marginal_y=\"histogram\", \n",
    "                         #nbinsx=10, \n",
    "                         #nbinsy=10,\n",
    "                         width=210, height=130)\n",
    "fig.data[0].update(contours_coloring=\"fill\", contours_showlabels = False, colorbar=dict(len=1, thickness=8, title='sample count', titleside = 'right'))\n",
    "fig.update_layout(base_layout)\n",
    "axis_labels = {\n",
    "    'tickformat': ',.2%',\n",
    "    'showgrid': False\n",
    "  }\n",
    "fig.update_xaxes(axis_labels)\n",
    "fig.update_yaxes(axis_labels)\n",
    "fig.data[0].update(contours_coloring=\"fill\", contours_showlabels = False)\n",
    "fig.layout.yaxis.title = r\"$\\frac{\\mathcal{E}_{NODEC}(t)-\\mathcal{E}_{FC}(t)}{\\mathcal{E}_{FC}(t)}$\"\n",
    "fig.layout.xaxis.title = r\"$\\frac{\\bar{r}_{NODEC}(t)-\\bar{r}_{FC}(t)}{\\bar{r}_{FC}(t)}$\"\n",
    "fig.layout.coloraxis.colorbar.title.text = 'samples'\n",
    "fig.layout.margin = dict(t=0, b=50, l=80, r=0)\n",
    "fig.layout.xaxis.tickangle = 0.45\n",
    "fig.layout.yaxis.tickangle = -45\n",
    "\n",
    "fig.layout.xaxis.nticks = 3\n",
    "\n",
    "fig.layout.yaxis.title = r\"Rel. Loss Difference\"\n",
    "fig.layout.xaxis.title = r\"Rel. Energy Difference\"\n",
    "fig.layout.coloraxis.colorbar.title.text = 'samples'\n",
    "fig.layout.margin = dict(t=0, b=50, l=80, r=0)\n",
    "fig.layout.xaxis.tickangle = 0.45\n",
    "fig.layout.xaxis.nticks = 3\n",
    "\n",
    "fig"
   ]
  }
 ],
 "metadata": {
  "kernelspec": {
   "display_name": "Python 3",
   "language": "python",
   "name": "python3"
  },
  "language_info": {
   "codemirror_mode": {
    "name": "ipython",
    "version": 3
   },
   "file_extension": ".py",
   "mimetype": "text/x-python",
   "name": "python",
   "nbconvert_exporter": "python",
   "pygments_lexer": "ipython3",
   "version": "3.7.3"
  }
 },
 "nbformat": 4,
 "nbformat_minor": 4
}
