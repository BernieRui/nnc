{
 "cells": [
  {
   "cell_type": "code",
   "execution_count": 1,
   "id": "7ae6638b",
   "metadata": {},
   "outputs": [
    {
     "name": "stderr",
     "output_type": "stream",
     "text": [
      "/home/lucasb/anaconda3/envs/TCR/lib/python3.6/_collections_abc.py:841: MatplotlibDeprecationWarning: Support for setting the 'text.latex.preamble' or 'pgf.preamble' rcParam to a list of strings is deprecated since 3.3 and will be removed two minor releases later; set it to a single string instead.\n",
      "  self[key] = other[key]\n"
     ]
    }
   ],
   "source": [
    "import numpy as np\n",
    "import pandas as pd\n",
    "import matplotlib.pyplot as plt\n",
    "from matplotlib import rcParams\n",
    "from scipy.stats import pearsonr\n",
    "from matplotlib.ticker import (MultipleLocator, FormatStrFormatter,\n",
    "                               AutoMinorLocator)\n",
    "                               \n",
    "# customized settings\n",
    "params = {  # 'backend': 'ps',\n",
    "    'font.family': 'serif',\n",
    "    'font.serif': 'Latin Modern Roman',\n",
    "    'font.size': 10,\n",
    "    'axes.labelsize': 'medium',\n",
    "    'axes.titlesize': 'medium',\n",
    "    'legend.fontsize': 'medium',\n",
    "    'xtick.labelsize': 'small',\n",
    "    'ytick.labelsize': 'small',\n",
    "    'savefig.dpi': 150,\n",
    "    'text.usetex': True,\n",
    "    'text.latex.preamble': [r\"\\usepackage{bm}\", r\"\\usepackage{mathtools}\"]}\n",
    "    # tell matplotlib about your params\n",
    "\n",
    "rcParams.update(params)\n",
    "# set nice figure sizes\n",
    "fig_width_pt = 510    # Get this from LaTeX using \\showthe\\columnwidth\n",
    "golden_mean = (np.sqrt(5.) - 1.) / 2.  # Aesthetic ratio\n",
    "ratio = golden_mean\n",
    "inches_per_pt = 1. / 72.27  # Convert pt to inches\n",
    "fig_width = fig_width_pt * inches_per_pt  # width in inches\n",
    "fig_height = fig_width*ratio  # height in inches\n",
    "fig_size = [fig_width, 0.5*fig_height]\n",
    "rcParams.update({'figure.figsize': fig_size})"
   ]
  },
  {
   "cell_type": "code",
   "execution_count": 59,
   "id": "090cd966",
   "metadata": {},
   "outputs": [
    {
     "data": {
      "image/png": "[encoded data removed]",
      "text/plain": [
       "<Figure size 508.095x157.01 with 2 Axes>"
      ]
     },
     "metadata": {
      "needs_background": "light"
     },
     "output_type": "display_data"
    }
   ],
   "source": [
    "WS_K01 = np.loadtxt(\"WS_drivers_K01_output.csv\")\n",
    "WS_K015 = np.loadtxt(\"WS_drivers_K015_output.csv\")\n",
    "WS_K02 = np.loadtxt(\"WS_drivers_K02_output.csv\")\n",
    "WS_K01_zoom = np.loadtxt(\"WS_drivers_K01_zoom_output.csv\")\n",
    "WS_K015_zoom = np.loadtxt(\"WS_drivers_K015_zoom_output.csv\")\n",
    "WS_K02_zoom = np.loadtxt(\"WS_drivers_K02_zoom_output.csv\")\n",
    "\n",
    "ER_K01 = np.loadtxt(\"ER_drivers_K01_output.csv\")\n",
    "ER_K015 = np.loadtxt(\"ER_drivers_K015_output.csv\")\n",
    "ER_K02 = np.loadtxt(\"ER_drivers_K02_output.csv\")\n",
    "ER_K01_zoom = np.loadtxt(\"ER_drivers_K01_zoom_output.csv\")\n",
    "ER_K015_zoom = np.loadtxt(\"ER_drivers_K015_zoom_output.csv\")\n",
    "ER_K02_zoom = np.loadtxt(\"ER_drivers_K02_zoom_output.csv\")\n",
    "\n",
    "fractions = np.linspace(0,1,10)\n",
    "fractions_zoom = np.linspace(0.9,1,10)\n",
    "\n",
    "fig, ax = plt.subplots(ncols = 2)\n",
    "\n",
    "axin01 = ax[0].inset_axes([0.65, 0.15, 0.3, 0.3])\n",
    "ax[0].text(0.02*1,0.89*(1.0-0.7)+0.7,r\"(a)\")\n",
    "ax[0].errorbar(fractions,ER_K01[:,0],yerr=ER_K01[:,1]/np.sqrt(1000),fmt='o',alpha=0.8)\n",
    "axin01.errorbar(fractions_zoom,ER_K01_zoom[:,0],yerr=ER_K01_zoom[:,1]/np.sqrt(1000),fmt='o',alpha=0.8)\n",
    "ax[0].errorbar(fractions,ER_K015[:,0],yerr=ER_K015[:,1]/np.sqrt(1000),fmt='^',alpha=0.8)\n",
    "axin01.errorbar(fractions_zoom,ER_K015_zoom[:,0],yerr=ER_K015_zoom[:,1]/np.sqrt(1000),fmt='^',alpha=0.8)\n",
    "ax[0].errorbar(fractions,ER_K02[:,0],yerr=ER_K02[:,1]/np.sqrt(1000),fmt='o',alpha=0.8)\n",
    "axin01.errorbar(fractions_zoom,ER_K02_zoom[:,0],yerr=ER_K02_zoom[:,1]/np.sqrt(1000),fmt='o',alpha=0.8)\n",
    "ax[0].set_ylim(0.7,1)\n",
    "ax[0].set_xlim(0,1)\n",
    "axin01.set_xlim(0.9,1.0)\n",
    "axin01.set_ylim(0.97,1)\n",
    "axin01.set_yticks([0.97,1.0])\n",
    "ax[0].set_xlabel(r\"fraction of controlled nodes\")\n",
    "ax[0].set_ylabel(r\"$r(T)$\")\n",
    "\n",
    "axin11 = ax[1].inset_axes([0.65, 0.15, 0.3, 0.3])\n",
    "ax[1].text(0.02*1,0.89*(1.0-0.8)+0.8,r\"(b)\")\n",
    "ax[1].errorbar(fractions,WS_K01[:,0],yerr=WS_K01[:,1]/np.sqrt(1000),fmt='o',alpha=0.8,zorder=0,label=r\"$K=0.1K^\\ast$\")\n",
    "axin11.errorbar(fractions_zoom,WS_K01_zoom[:,0],yerr=WS_K01_zoom[:,1]/np.sqrt(1000),fmt='o',alpha=0.8,zorder=0)\n",
    "ax[1].errorbar(fractions,WS_K015[:,0],yerr=WS_K015[:,1]/np.sqrt(1000),fmt='^',alpha=0.8,zorder=10,label=r\"$K=0.15K^\\ast$\")\n",
    "axin11.errorbar(fractions_zoom,WS_K015_zoom[:,0],yerr=WS_K015_zoom[:,1]/np.sqrt(1000),fmt='^',alpha=0.8,zorder=10)\n",
    "ax[1].errorbar(fractions,WS_K02[:,0],yerr=WS_K02[:,1]/np.sqrt(1000),fmt='o',alpha=0.8,zorder=20,label=r\"$K=0.2K^\\ast$\")\n",
    "axin11.errorbar(fractions_zoom,WS_K02_zoom[:,0],yerr=WS_K02_zoom[:,1]/np.sqrt(1000),fmt='o',alpha=0.8,zorder=20)\n",
    "ax[1].set_ylim(0.8,1)\n",
    "ax[1].set_yticks([0.8,0.9,1.0])\n",
    "ax[1].set_xlim(0,1)\n",
    "axin11.set_xlim(0.9,1.0)\n",
    "axin11.set_ylim(0.97,1)\n",
    "axin11.set_yticks([0.97,1.0])\n",
    "#ax[1].legend(loc=3,frameon=False,fontsize=6)\n",
    "ax[1].set_xlabel(r\"fraction of controlled nodes\")\n",
    "\n",
    "plt.tight_layout()\n",
    "plt.rcParams['savefig.facecolor']='white'\n",
    "plt.savefig('driver_nodes_kuramoto.png', dpi = 480)\n",
    "plt.show()"
   ]
  },
  {
   "cell_type": "code",
   "execution_count": null,
   "id": "09d849d3",
   "metadata": {},
   "outputs": [],
   "source": []
  }
 ],
 "metadata": {
  "kernelspec": {
   "display_name": "Python 3",
   "language": "python",
   "name": "python3"
  },
  "language_info": {
   "codemirror_mode": {
    "name": "ipython",
    "version": 3
   },
   "file_extension": ".py",
   "mimetype": "text/x-python",
   "name": "python",
   "nbconvert_exporter": "python",
   "pygments_lexer": "ipython3",
   "version": "3.6.13"
  }
 },
 "nbformat": 4,
 "nbformat_minor": 5
}
