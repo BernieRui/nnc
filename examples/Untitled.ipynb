{
 "cells": [
  {
   "cell_type": "code",
   "execution_count": 2,
   "id": "numeric-transition",
   "metadata": {},
   "outputs": [],
   "source": [
    "import plotly.express as px\n",
    "import plotly.graph_objects as go\n",
    "import torch\n",
    "import torchdiffeq"
   ]
  },
  {
   "cell_type": "code",
   "execution_count": 18,
   "id": "operational-climb",
   "metadata": {},
   "outputs": [],
   "source": [
    "n = 3\n",
    "omegas = torch.rand(n) + 3\n",
    "A = [[0,1,0],\n",
    "     [1,0,1],\n",
    "     [0,1,0]]\n",
    "A = torch.tensor(A).float()\n",
    "\n",
    "def evolve(t, x, u):\n",
    "    dx = (A*torch.sin(x.unsqueeze(0) - x.unsqueeze(1))).sum(-1) * u\n",
    "    return dx"
   ]
  },
  {
   "cell_type": "code",
   "execution_count": 19,
   "id": "reserved-going",
   "metadata": {},
   "outputs": [],
   "source": [
    "u = torch.ones(n)\n",
    "x = torch.rand(n)"
   ]
  },
  {
   "cell_type": "code",
   "execution_count": 21,
   "id": "removable-warehouse",
   "metadata": {},
   "outputs": [
    {
     "data": {
      "text/plain": [
       "tensor([ 0.0362, -0.2193,  0.1831])"
      ]
     },
     "execution_count": 21,
     "metadata": {},
     "output_type": "execute_result"
    }
   ],
   "source": [
    "evolve(0, x,u)"
   ]
  },
  {
   "cell_type": "code",
   "execution_count": null,
   "id": "deluxe-miami",
   "metadata": {},
   "outputs": [],
   "source": []
  }
 ],
 "metadata": {
  "kernelspec": {
   "display_name": "Python 3",
   "language": "python",
   "name": "python3"
  },
  "language_info": {
   "codemirror_mode": {
    "name": "ipython",
    "version": 3
   },
   "file_extension": ".py",
   "mimetype": "text/x-python",
   "name": "python",
   "nbconvert_exporter": "python",
   "pygments_lexer": "ipython3",
   "version": "3.8.8"
  }
 },
 "nbformat": 4,
 "nbformat_minor": 5
}
